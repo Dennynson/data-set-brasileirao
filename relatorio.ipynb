{
 "cells": [
  {
   "cell_type": "markdown",
   "metadata": {},
   "source": [
    "# Análise Histórica do Campeonato Brasileiro Série A (2006–2024)\n",
    "\n",
    "## Integrantes\n",
    "- Dennynson Scheydt Medeiros Nascimento\n",
    "- Matias Monteiro de Araújo\n",
    "- Vinícius da Silva Cunha\n",
    "- João Matheus Silva Paiva\n",
    "\n",
    "## Introdução\n",
    "\n",
    "O futebol brasileiro é um fenômeno cultural e social, e o Campeonato Brasileiro Série A representa o ápice da competição nacional. Desde sua profissionalização, o campeonato reúne os melhores clubes do país, sendo acompanhado por milhões de torcedores e gerando uma grande quantidade de dados que podem ser analisados para extrair padrões, comparações e curiosidades.\n",
    "\n",
    "Este projeto, desenvolvido na disciplina *Introdução à Ciência de Dados*, teve como objetivo central a construção de um conjunto de dados consolidado com as classificações finais do Brasileirão Série A entre os anos de 2006 e 2024. O trabalho abordou tanto o aspecto técnico da coleta e organização dos dados, quanto a consolidação de uma base estruturada pronta para análises sobre o desempenho dos clubes ao longo dos anos.\n",
    "\n",
    "---\n",
    "\n",
    "## Dados Usados\n",
    "\n",
    "O conjunto de dados foi construído a partir de múltiplas fontes:\n",
    "\n",
    "- **API APIFootball** — utilizada para coletar os dados dos anos de **2021 a 2023**.\n",
    "- **API Football-data** — usada para obter os dados da temporada **2024**.\n",
    "- **Web scraping com BeautifulSoup** — aplicado para coletar os dados de **2006 a 2020**, com informações extraídas do site **WorldFootball**.\n",
    "\n",
    "Após a coleta, os dados foram padronizados e organizados em um único arquivo CSV, contendo as estatísticas finais de cada clube ao término de cada edição do campeonato. O arquivo serve como base para possíveis análises estatísticas e visuais futuras.\n",
    "\n",
    "---\n",
    "\n",
    "## Estrutura do Dataset\n",
    "\n",
    "O dataset contém a tabela final de classificação de cada temporada, com as seguintes colunas:\n",
    "\n",
    "| Coluna            | Descrição                                          | Exemplo (Flamengo 2019) |\n",
    "|-------------------|----------------------------------------------------|--------------------------|\n",
    "| **Temporada**     | Ano do campeonato                                  | 2019                     |\n",
    "| **Posição**       | Colocação final do time na tabela                  | 1                        |\n",
    "| **Time**          | Nome oficial do clube                              | Flamengo RJ              |\n",
    "| **Pontos**        | Total de pontos conquistados                       | 90                       |\n",
    "| **Saldo de Gols** | Diferença entre gols marcados e sofridos           | 49                       |\n",
    "| **Jogos**         | Total de partidas disputadas                       | 38                       |\n",
    "| **Vitórias**      | Número de vitórias                                 | 28                       |\n",
    "| **Empates**       | Número de empates                                  | 6                        |\n",
    "| **Derrotas**      | Número de derrotas                                 | 4                        |\n",
    "| **Gols Marcados** | Total de gols a favor                              | 86                       |\n",
    "| **Gols Sofridos** | Total de gols contra                               | 37                       |\n",
    "\n",
    "---\n",
    "\n",
    "## Exploração Inicial dos Dados\n",
    "\n",
    "Nesta etapa, realizamos uma leitura inicial do arquivo CSV contendo o dataset, a fim de verificar a estrutura da base, os tipos de dados e identificar possíveis inconsistências.\n",
    "\n",
    "---"
   ]
  },
  {
   "cell_type": "markdown",
   "metadata": {},
   "source": [
    "# Pré-processamento\n",
    "## Limpeza e Transformação dos Dados Necessários\n",
    "\n",
    "Tendo em vista que a coleta foi realizada a partir de três fontes diferentes, tivemos que fazer alguns tratamentos ainda na coleta, como os dados coletados - que são as respectivas colunas do dataset, a fim de uniformizar os dados coletados para todos os times de todas as temporadas. Além disso, também foi detectado que os nomes dos clubes variavam de acordo com a fonte da qual extraímos, sendo possível encontrar três variações de Flamengo - o que poderia nos trazer dificuldades na hora da análise, para isso fizemos um mapeamento buscando as variações dos nomes dos times e definindo apenas um, como pode ser visto no dicionário a baixo."
   ]
  },
  {
   "cell_type": "code",
   "execution_count": 3,
   "metadata": {},
   "outputs": [],
   "source": [
    "times = {\n",
    "        \"Botafogo FR\": \"Botafogo\",\n",
    "        \"Botafogo - RJ\": \"Botafogo\",\n",
    "        \"CR Vasco da Gama\": \"Vasco\",\n",
    "        \"Vasco da Gama - RJ\": \"Vasco\",\n",
    "        \"Cruzeiro EC\": \"Cruzeiro\",\n",
    "        \"EC Bahia\": \"Bahia\",\n",
    "        \"Bahia - BA\": \"Bahia\",\n",
    "        \"SC Corinthians Paulista\": \"Corinthians\",\n",
    "        \"Corinthians SP\": \"Corinthians\",\n",
    "        \"SC Internacional\": \"Internacional\",\n",
    "        \"Fortaleza EC\": \"Fortaleza\",\n",
    "        \"Fortaleza - CE\": \"Fortaleza\",\n",
    "        \"CR Flamengo\": \"Flamengo\",\n",
    "        \"Flamengo RJ\": \"Flamengo\",\n",
    "        \"São Paulo FC\": \"São Paulo\",\n",
    "        \"Sao Paulo\": \"São Paulo\",\n",
    "        \"Sport Club Recife\": \"Sport\",\n",
    "        \"SE Palmeiras\": \"Palmeiras\",\n",
    "        \"AC Goianiense\": \"Atlético Goianiense\",\n",
    "        \"Atletico Goianiense\": \"Atlético Goianiense\",\n",
    "        \"Criciúma EC\": \"Criciúma\",\n",
    "        \"Criciúma - SC\": \"Criciúma\",\n",
    "        \"Cuiabá EC\": \"Cuiabá\",\n",
    "        \"Cuiaba\": \"Cuiabá\",\n",
    "        \"CA Paranaense\": \"Athletico Paranaense\",\n",
    "        \"Atletico Paranaense\": \"Athletico Paranaense\",\n",
    "        \"RB Bragantino\": \"Bragantino\",\n",
    "        \"Red Bull Bragantino\": \"Bragantino\",\n",
    "        \"EC Juventude\": \"Juventude\",\n",
    "        \"Juventude - RS\": \"Juventude\",\n",
    "        \"Grêmio FBPA\": \"Grêmio\",\n",
    "        \"Grêmio Porto Alegre\": \"Grêmio\",\n",
    "        \"Gremio\": \"Grêmio\",\n",
    "        \"Fluminense FC\": \"Fluminense\",\n",
    "        \"Fluminense RJ\": \"Fluminense\",\n",
    "        \"EC Vitória\": \"Vitória\",\n",
    "        \"Vitória - BA\": \"Vitória\",\n",
    "        \"CA Mineiro\": \"Atlético Mineiro\",\n",
    "        \"Atletico-MG\": \"Atlético Mineiro\",\n",
    "        \"Santos FC\": \"Santos\",\n",
    "        \"Paraná Clube\": \"Paraná\",\n",
    "        \"Figueirense - SC\": \"Figueirense\",\n",
    "        \"Goiás - GO\": \"Goiás\",\n",
    "        \"Goias\": \"Goiás\",\n",
    "        \"São Caetano - SP\": \"São Caetano\",\n",
    "        \"Santa Cruz - PE\": \"Santa Cruz\",\n",
    "        \"Sport Recife - PE\": \"Sport\",\n",
    "        \"Sport Recife\": \"Sport\",\n",
    "        \"Náutico - PE\": \"Náutico\",\n",
    "        \"Coritiba - PR\": \"Coritiba\",\n",
    "        \"Portuguesa - SP\": \"Portuguesa\",\n",
    "        \"Ipatinga FC\": \"Ipatinga\",\n",
    "        \"Avaí - SC\": \"Avaí\",\n",
    "        \"Avai\": \"Avaí\",\n",
    "        \"Grêmio Barueri - SP\": \"Grêmio Barueri\",\n",
    "        \"Grêmio Prudente\": \"Grêmio Barueri\",\n",
    "        \"Santo André - SP\": \"Santo André\",\n",
    "        \"Ceará - CE\": \"Ceará\",\n",
    "        \"Ceara\": \"Ceará\",\n",
    "        \"Guarani - SP\": \"Guarani\",\n",
    "        \"América - MG\": \"América Mineiro\",\n",
    "        \"America Mineiro\": \"América Mineiro\",\n",
    "        \"Joinville - SC\": \"Joinville\",\n",
    "        \"CSA - AL\": \"CSA\",\n",
    "        \"Chapecoense-sc\": \"Chapecoense\",\n",
    "    }\n"
   ]
  },
  {
   "cell_type": "markdown",
   "metadata": {},
   "source": [
    "## Aplicando no Arquivo\n",
    "Ultilizaremos a biblioteca Pandas para tal fim. Criaremos um DataFrame a partir do CSV com os dados e lá iremos tratar os problemas citados acima."
   ]
  },
  {
   "cell_type": "code",
   "execution_count": 4,
   "metadata": {},
   "outputs": [],
   "source": [
    "import pandas as pd"
   ]
  },
  {
   "cell_type": "code",
   "execution_count": 5,
   "metadata": {},
   "outputs": [],
   "source": [
    "df = pd.read_csv(\"brasileirao_2006_2024.csv\")"
   ]
  },
  {
   "cell_type": "markdown",
   "metadata": {},
   "source": [
    "Na chave \"Time\" correspondente à coluna que armazena os nomes dos times, usaremos o método replace para padronizá-los evitando problemas na análise."
   ]
  },
  {
   "cell_type": "code",
   "execution_count": 6,
   "metadata": {},
   "outputs": [],
   "source": [
    "df[\"Time\"] = df[\"Time\"].replace(times)"
   ]
  },
  {
   "cell_type": "markdown",
   "metadata": {},
   "source": [
    "---"
   ]
  },
  {
   "cell_type": "markdown",
   "metadata": {},
   "source": [
    "# Análises\n",
    "Nesta seção nos ultilizaremos de perguntas que julgamos interessantes(e possíveis) para serem respondidas a partir da análise dos dados que obtemos.\n",
    "Para isso, utilizaremos a biblioteca Matplotlib para visualização dos dados. Além disso, utilizaremos o Seaborn para criar gráficos mais elaborados e informativos.\n"
   ]
  },
  {
   "cell_type": "code",
   "execution_count": 7,
   "metadata": {},
   "outputs": [],
   "source": [
    "import matplotlib.pyplot as plt\n",
    "import seaborn as sns"
   ]
  },
  {
   "cell_type": "markdown",
   "metadata": {},
   "source": [
    "## Quais foram os maiores outliers de pontos entre 2006 e 2024?\n",
    "Para responder a essa pergunta, utilizaremos o gráfico de boxplot, que nos permitirá visualizar os outliers de forma clara e objetiva. O boxplot é uma ferramenta estatística que mostra a distribuição dos dados, destacando os valores atípicos (outliers) que estão além do intervalo interquartil. Os otliers são os pontos que estão muito distantes da média e podem indicar desempenhos excepcionais ou muito abaixo do esperado. No contexto do Campeonato Brasileiro, esses outliers podem representar clubes que tiveram temporadas extraordinárias ou desastrosas.\n"
   ]
  },
  {
   "cell_type": "code",
   "execution_count": null,
   "metadata": {},
   "outputs": [
    {
     "data": {
      "text/plain": [
       "Text(0.5, 1.0, 'Distribuição de pontos por time')"
      ]
     },
     "execution_count": 13,
     "metadata": {},
     "output_type": "execute_result"
    },
    {
     "data": {
      "image/png": "[encoded data removed]",
      "text/plain": [
       "<Figure size 640x480 with 1 Axes>"
      ]
     },
     "metadata": {},
     "output_type": "display_data"
    }
   ],
   "source": [
    "sns.set_theme(style=\"whitegrid\")\n",
    "sns.boxplot(y=\"Pontos\", data=df)\n",
    "plt.title(\"Distribuição de pontos\")"
   ]
  },
  {
   "cell_type": "markdown",
   "metadata": {},
   "source": [
    "\n",
    "Os maiores otliers do Brasileirão são:\n",
    "- 2019 - Flamengo - 90 pontos\n",
    "- 2016 - Palmeiras - 81 pontos\n",
    "\n",
    "Os menores otliers do Brasileirão são: \n",
    "- 2006 - América-MG - 16 pontos\n",
    "- 2007 - Ipatinga - 18 pontos\n",
    "- 2008 - Portuguesa - 19 pontos"
   ]
  }
 ],
 "metadata": {
  "kernelspec": {
   "display_name": "Python 3",
   "language": "python",
   "name": "python3"
  },
  "language_info": {
   "codemirror_mode": {
    "name": "ipython",
    "version": 3
   },
   "file_extension": ".py",
   "mimetype": "text/x-python",
   "name": "python",
   "nbconvert_exporter": "python",
   "pygments_lexer": "ipython3",
   "version": "3.12.5"
  }
 },
 "nbformat": 4,
 "nbformat_minor": 2
}
