{
 "cells": [
  {
   "cell_type": "markdown",
   "metadata": {},
   "source": [
    "# Pré-processamento\n",
    "## Limpeza e transformação dos dados necessários\n",
    "\n",
    "Tendo em vista que a coleta foi realizada a partir de três fontes diferentes, tivemos que fazer alguns tratamentos ainda na coleta, como os dados coletados - que são as respectivas colunas do dataset, a fim de uniformizar os dados coletados para todos os times de todas as temporadas. Além disso, também foi detectado que os nomes dos clubes variavam de acordo com a fonte da qual extraímos, sendo possível encontrar três variações de Flamengo - o que poderia nos trazer dificuldades na hora da análise, para isso fizemos um mapeamento buscando as variações dos nomes dos times e definindo apenas um, como pode ser visto no dicionário a baixo."
   ]
  },
  {
   "cell_type": "code",
   "execution_count": 4,
   "metadata": {},
   "outputs": [],
   "source": [
    "times = {\n",
    "        \"Botafogo FR\": \"Botafogo\",\n",
    "        \"Botafogo - RJ\": \"Botafogo\",\n",
    "        \"CR Vasco da Gama\": \"Vasco\",\n",
    "        \"Cruzeiro EC\": \"Cruzeiro\",\n",
    "        \"EC Bahia\": \"Bahia\",\n",
    "        \"SC Corinthians Paulista\": \"Corinthians\",\n",
    "        \"SC Internacional\": \"Internacional\",\n",
    "        \"Fortaleza EC\": \"Fortaleza\",\n",
    "        \"CR Flamengo\": \"Flamengo\",\n",
    "        \"Flamengo RJ\": \"Flamengo\",\n",
    "        \"São Paulo FC\": \"São Paulo\",\n",
    "        \"Sport Club Recife\": \"Sport\",\n",
    "        \"SE Palmeiras\": \"Palmeiras\",\n",
    "        \"AC Goianiense\": \"Goianiense\",\n",
    "        \"Criciúma EC\": \"Criciúma\",\n",
    "        \"Cuiabá EC\": \"Cuiabá\",\n",
    "        \"CA Paranaense\": \"Paranaense\",\n",
    "        \"RB Bragantino\": \"Bragantino\",\n",
    "        \"EC Juventude\": \"Juventude\",\n",
    "        \"Grêmio FBPA\": \"Grêmio\",\n",
    "        \"Fluminense FC\": \"Fluminense\",\n",
    "        \"Fluminense RJ\": \"Fluminense\",\n",
    "        \"EC Vitória\": \"Vitória\",\n",
    "        \"CA Mineiro\": \"Atlético Mineiro\",\n",
    "\n",
    "    }\n"
   ]
  }
 ],
 "metadata": {
  "kernelspec": {
   "display_name": "Python 3",
   "language": "python",
   "name": "python3"
  },
  "language_info": {
   "codemirror_mode": {
    "name": "ipython",
    "version": 3
   },
   "file_extension": ".py",
   "mimetype": "text/x-python",
   "name": "python",
   "nbconvert_exporter": "python",
   "pygments_lexer": "ipython3",
   "version": "3.12.4"
  }
 },
 "nbformat": 4,
 "nbformat_minor": 2
}
